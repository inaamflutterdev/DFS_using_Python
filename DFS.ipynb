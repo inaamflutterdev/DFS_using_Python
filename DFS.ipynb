{
  "nbformat": 4,
  "nbformat_minor": 0,
  "metadata": {
    "colab": {
      "provenance": []
    },
    "kernelspec": {
      "name": "python3",
      "display_name": "Python 3"
    },
    "language_info": {
      "name": "python"
    }
  },
  "cells": [
    {
      "cell_type": "code",
      "execution_count": 1,
      "metadata": {
        "colab": {
          "base_uri": "https://localhost:8080/"
        },
        "id": "KSkfNLL0RZ32",
        "outputId": "d45d089a-b3d5-4510-fe56-45687824ed75"
      },
      "outputs": [
        {
          "output_type": "stream",
          "name": "stdout",
          "text": [
            "Recursive DFS:\n",
            "A B D E F C \n",
            "Iterative DFS:\n",
            "A C F E B D "
          ]
        }
      ],
      "source": [
        "# Sample graph represented as an adjacency list\n",
        "graph = {\n",
        "    'A': ['B', 'C'],\n",
        "    'B': ['A', 'D', 'E'],\n",
        "    'C': ['A', 'F'],\n",
        "    'D': ['B'],\n",
        "    'E': ['B', 'F'],\n",
        "    'F': ['C', 'E']\n",
        "}\n",
        "\n",
        "def recursive_dfs(graph, node, visited):\n",
        "    if node not in visited:\n",
        "        print(node, end=' ')\n",
        "        visited.add(node)\n",
        "        for neighbor in graph[node]:\n",
        "            recursive_dfs(graph, neighbor, visited)\n",
        "\n",
        "def iterative_dfs(graph, start_node):\n",
        "    visited = set()\n",
        "    stack = [start_node]\n",
        "\n",
        "    while stack:\n",
        "        node = stack.pop()\n",
        "        if node not in visited:\n",
        "            print(node, end=' ')\n",
        "            visited.add(node)\n",
        "            stack.extend(neighbor for neighbor in graph[node] if neighbor not in visited)\n",
        "\n",
        "if __name__ == \"__main__\":\n",
        "    # Initialize the visited set\n",
        "    visited = set()\n",
        "\n",
        "    # Start DFS from a specific node (e.g., 'A')\n",
        "    print(\"Recursive DFS:\")\n",
        "    recursive_dfs(graph, 'A', visited)\n",
        "    print()\n",
        "\n",
        "    # Reset the visited set\n",
        "    visited.clear()\n",
        "\n",
        "    # Start DFS from a specific node (e.g., 'A')\n",
        "    print(\"Iterative DFS:\")\n",
        "    iterative_dfs(graph, 'A')\n"
      ]
    }
  ]
}